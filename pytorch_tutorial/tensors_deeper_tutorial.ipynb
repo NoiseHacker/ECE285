{
 "cells": [
  {
   "cell_type": "code",
   "execution_count": 1,
   "metadata": {
    "id": "RQbD5rO5KLLI"
   },
   "outputs": [],
   "source": [
    "# For tips on running notebooks in Google Colab, see\n",
    "# https://pytorch.org/tutorials/beginner/colab\n",
    "%matplotlib inline"
   ]
  },
  {
   "cell_type": "markdown",
   "metadata": {
    "id": "-iyc0X7fKLLJ"
   },
   "source": [
    "\n",
    "[Introduction](introyt1_tutorial.html) ||\n",
    "**Tensors** ||\n",
    "[Autograd](autogradyt_tutorial.html) ||\n",
    "[Building Models](modelsyt_tutorial.html) ||\n",
    "[TensorBoard Support](tensorboardyt_tutorial.html) ||\n",
    "[Training Models](trainingyt.html) ||\n",
    "[Model Understanding](captumyt.html)\n",
    "\n",
    "# Introduction to PyTorch Tensors\n",
    "\n",
    "Follow along with the video below or on [youtube](https://www.youtube.com/watch?v=r7QDUPb2dCM)_.\n",
    "\n",
    ".. raw:: html\n",
    "\n",
    "   <div style=\"margin-top:10px; margin-bottom:10px;\">\n",
    "     <iframe width=\"560\" height=\"315\" src=\"https://www.youtube.com/embed/r7QDUPb2dCM\" frameborder=\"0\" allow=\"accelerometer; encrypted-media; gyroscope; picture-in-picture\" allowfullscreen></iframe>\n",
    "   </div>\n",
    "\n",
    "Tensors are the central data abstraction in PyTorch. This interactive\n",
    "notebook provides an in-depth introduction to the ``torch.Tensor``\n",
    "class.\n",
    "\n",
    "First things first, let’s import the PyTorch module. We’ll also add\n",
    "Python’s math module to facilitate some of the examples.\n"
   ]
  },
  {
   "cell_type": "code",
   "execution_count": 42,
   "metadata": {
    "id": "f4FCc78FKLLK"
   },
   "outputs": [],
   "source": [
    "import torch\n",
    "import math"
   ]
  },
  {
   "cell_type": "markdown",
   "metadata": {
    "id": "ZLxN4R8bKLLK"
   },
   "source": [
    "## Creating Tensors\n",
    "\n",
    "The simplest way to create a tensor is with the ``torch.empty()`` call:\n",
    "\n",
    "\n"
   ]
  },
  {
   "cell_type": "code",
   "execution_count": null,
   "metadata": {
    "colab": {
     "base_uri": "https://localhost:8080/"
    },
    "id": "wt5GfTBeKLLL",
    "outputId": "0d07264c-cfee-4366-f06a-c1399262baa8"
   },
   "outputs": [
    {
     "name": "stdout",
     "output_type": "stream",
     "text": [
      "<class 'torch.Tensor'>\n",
      "tensor([[-9.5681e+30,  3.0950e-41,  0.0000e+00,  0.0000e+00],\n",
      "        [ 0.0000e+00,  0.0000e+00,  9.1084e-44,  0.0000e+00],\n",
      "        [-9.2453e-06,  4.5591e-41, -2.0341e+31,  3.0950e-41]])\n"
     ]
    }
   ],
   "source": [
    "x = torch.empty(3, 4)   # random value\n",
    "print(type(x))\n",
    "print(x)"
   ]
  },
  {
   "cell_type": "markdown",
   "metadata": {
    "id": "NKZ7qOkTKLLL"
   },
   "source": [
    "Let’s unpack what we just did:\n",
    "\n",
    "-  We created a tensor using one of the numerous factory methods\n",
    "   attached to the ``torch`` module.\n",
    "-  The tensor itself is 2-dimensional, having 3 rows and 4 columns.\n",
    "-  The type of the object returned is ``torch.Tensor``, which is an\n",
    "   alias for ``torch.FloatTensor``; by default, PyTorch tensors are\n",
    "   populated with 32-bit floating point numbers. (More on data types\n",
    "   below.)\n",
    "-  You will probably see some random-looking values when printing your\n",
    "   tensor. The ``torch.empty()`` call allocates memory for the tensor,\n",
    "   but does not initialize it with any values - so what you’re seeing is\n",
    "   whatever was in memory at the time of allocation.\n",
    "\n",
    "A brief note about tensors and their number of dimensions, and\n",
    "terminology:\n",
    "\n",
    "-  You will sometimes see a 1-dimensional tensor called a\n",
    "   *vector.* \n",
    "-  Likewise, a 2-dimensional tensor is often referred to as a\n",
    "   *matrix.* \n",
    "-  Anything with more than two dimensions is generally just\n",
    "   called a tensor.\n",
    "\n",
    "More often than not, you’ll want to initialize your tensor with some\n",
    "value. Common cases are all zeros, all ones, or random values, and the\n",
    "``torch`` module provides factory methods for all of these:\n",
    "\n",
    "\n"
   ]
  },
  {
   "cell_type": "code",
   "execution_count": 45,
   "metadata": {
    "colab": {
     "base_uri": "https://localhost:8080/"
    },
    "id": "mnQLkaJGKLLL",
    "outputId": "06c3dd84-3999-4387-b285-9ec22447114d"
   },
   "outputs": [
    {
     "name": "stdout",
     "output_type": "stream",
     "text": [
      "tensor([[0., 0., 0.],\n",
      "        [0., 0., 0.]])\n",
      "tensor([[1., 1., 1.],\n",
      "        [1., 1., 1.]])\n",
      "tensor([[0.3126, 0.3791, 0.3087],\n",
      "        [0.0736, 0.4216, 0.0691]])\n"
     ]
    }
   ],
   "source": [
    "zeros = torch.zeros(2, 3)\n",
    "print(zeros)\n",
    "\n",
    "ones = torch.ones(2, 3)\n",
    "print(ones)\n",
    "\n",
    "torch.manual_seed(1729)\n",
    "random = torch.rand(2, 3)\n",
    "print(random)"
   ]
  },
  {
   "cell_type": "markdown",
   "metadata": {
    "id": "Ih-GAI0OKLLL"
   },
   "source": [
    "The factory methods all do just what you’d expect - we have a tensor\n",
    "full of zeros, another full of ones, and another with random values\n",
    "between 0 and 1.\n",
    "\n",
    "### Random Tensors and Seeding\n",
    "\n",
    "Speaking of the random tensor, did you notice the call to\n",
    "``torch.manual_seed()`` immediately preceding it? Initializing tensors,\n",
    "such as a model’s learning weights, with random values is common but\n",
    "there are times - especially in research settings - where you’ll want\n",
    "some assurance of the reproducibility of your results. Manually setting\n",
    "your random number generator’s seed is the way to do this. Let’s look\n",
    "more closely:\n",
    "\n",
    "\n"
   ]
  },
  {
   "cell_type": "code",
   "execution_count": 46,
   "metadata": {
    "colab": {
     "base_uri": "https://localhost:8080/"
    },
    "id": "5UqWNLxfKLLL",
    "outputId": "e1c819ff-6ba3-45ad-8aa4-6af6e6889010"
   },
   "outputs": [
    {
     "name": "stdout",
     "output_type": "stream",
     "text": [
      "tensor([[0.3126, 0.3791, 0.3087],\n",
      "        [0.0736, 0.4216, 0.0691]])\n",
      "tensor([[0.2332, 0.4047, 0.2162],\n",
      "        [0.9927, 0.4128, 0.5938]])\n",
      "tensor([[0.3126, 0.3791, 0.3087],\n",
      "        [0.0736, 0.4216, 0.0691]])\n",
      "tensor([[0.2332, 0.4047, 0.2162],\n",
      "        [0.9927, 0.4128, 0.5938]])\n"
     ]
    }
   ],
   "source": [
    "torch.manual_seed(1729)\n",
    "random1 = torch.rand(2, 3)\n",
    "print(random1)\n",
    "\n",
    "random2 = torch.rand(2, 3)\n",
    "print(random2)\n",
    "\n",
    "torch.manual_seed(1729)\n",
    "random3 = torch.rand(2, 3)\n",
    "print(random3)\n",
    "\n",
    "random4 = torch.rand(2, 3)\n",
    "print(random4)"
   ]
  },
  {
   "cell_type": "markdown",
   "metadata": {
    "id": "PuIyx5zlKLLL"
   },
   "source": [
    "What you should see above is that ``random1`` and ``random3`` carry\n",
    "identical values, as do ``random2`` and ``random4``. Manually setting\n",
    "the RNG’s seed resets it, so that identical computations depending on\n",
    "random number should, in most settings, provide identical results.\n",
    "\n",
    "For more information, see the [PyTorch documentation on\n",
    "reproducibility](https://pytorch.org/docs/stable/notes/randomness.html)_.\n",
    "\n",
    "### Tensor Shapes\n",
    "\n",
    "Often, when you’re performing operations on two or more tensors, they\n",
    "will need to be of the same *shape* - that is, having the same number of\n",
    "dimensions and the same number of cells in each dimension. For that, we\n",
    "have the ``torch.*_like()`` methods:\n",
    "\n",
    "\n"
   ]
  },
  {
   "cell_type": "code",
   "execution_count": 47,
   "metadata": {
    "colab": {
     "base_uri": "https://localhost:8080/"
    },
    "id": "cHwETK7GKLLM",
    "outputId": "fc0b7d91-1ba2-4d87-8e73-912f1144f722"
   },
   "outputs": [
    {
     "name": "stdout",
     "output_type": "stream",
     "text": [
      "torch.Size([2, 2, 3])\n",
      "tensor([[[-2.1725e+23,  3.0950e-41, -1.8225e+23],\n",
      "         [ 3.0950e-41,  0.0000e+00,  0.0000e+00]],\n",
      "\n",
      "        [[-4.7387e-38,  4.5590e-41,  0.0000e+00],\n",
      "         [ 0.0000e+00,  1.6816e-44,  1.4013e-45]]])\n",
      "torch.Size([2, 2, 3])\n",
      "tensor([[[-9.2454e-06,  4.5591e-41, -3.4062e+23],\n",
      "         [ 3.0950e-41,  4.4842e-43,  0.0000e+00]],\n",
      "\n",
      "        [[ 1.5695e-43,  0.0000e+00, -8.9957e-11],\n",
      "         [ 3.0950e-41,  8.9683e-44,  0.0000e+00]]])\n",
      "torch.Size([2, 2, 3])\n",
      "tensor([[[0., 0., 0.],\n",
      "         [0., 0., 0.]],\n",
      "\n",
      "        [[0., 0., 0.],\n",
      "         [0., 0., 0.]]])\n",
      "torch.Size([2, 2, 3])\n",
      "tensor([[[1., 1., 1.],\n",
      "         [1., 1., 1.]],\n",
      "\n",
      "        [[1., 1., 1.],\n",
      "         [1., 1., 1.]]])\n",
      "torch.Size([2, 2, 3])\n",
      "tensor([[[0.6128, 0.1519, 0.0453],\n",
      "         [0.5035, 0.9978, 0.3884]],\n",
      "\n",
      "        [[0.6929, 0.1703, 0.1384],\n",
      "         [0.4759, 0.7481, 0.0361]]])\n"
     ]
    }
   ],
   "source": [
    "x = torch.empty(2, 2, 3)\n",
    "print(x.shape)\n",
    "print(x)\n",
    "\n",
    "empty_like_x = torch.empty_like(x)\n",
    "print(empty_like_x.shape)\n",
    "print(empty_like_x)\n",
    "\n",
    "zeros_like_x = torch.zeros_like(x)\n",
    "print(zeros_like_x.shape)\n",
    "print(zeros_like_x)\n",
    "\n",
    "ones_like_x = torch.ones_like(x)\n",
    "print(ones_like_x.shape)\n",
    "print(ones_like_x)\n",
    "\n",
    "rand_like_x = torch.rand_like(x)\n",
    "print(rand_like_x.shape)\n",
    "print(rand_like_x)"
   ]
  },
  {
   "cell_type": "markdown",
   "metadata": {
    "id": "SV--vFPEKLLM"
   },
   "source": [
    "The first new thing in the code cell above is the use of the ``.shape``\n",
    "property on a tensor. This property contains a list of the extent of\n",
    "each dimension of a tensor - in our case, ``x`` is a three-dimensional\n",
    "tensor with shape 2 x 2 x 3.\n",
    "\n",
    "Below that, we call the ``.empty_like()``, ``.zeros_like()``,\n",
    "``.ones_like()``, and ``.rand_like()`` methods. Using the ``.shape``\n",
    "property, we can verify that each of these methods returns a tensor of\n",
    "identical dimensionality and extent.\n",
    "\n",
    "The last way to create a tensor that will cover is to specify its data\n",
    "directly from a PyTorch collection:\n",
    "\n",
    "\n"
   ]
  },
  {
   "cell_type": "code",
   "execution_count": 48,
   "metadata": {
    "colab": {
     "base_uri": "https://localhost:8080/"
    },
    "id": "rvJNl-5ZKLLM",
    "outputId": "74fc9987-c15a-483c-816b-3d257bf2ba7f"
   },
   "outputs": [
    {
     "name": "stdout",
     "output_type": "stream",
     "text": [
      "tensor([[3.1416, 2.7183],\n",
      "        [1.6180, 0.0073]])\n",
      "tensor([ 2,  3,  5,  7, 11, 13, 17, 19])\n",
      "tensor([[2, 4, 6],\n",
      "        [3, 6, 9]])\n"
     ]
    }
   ],
   "source": [
    "\n",
    "some_constants = torch.tensor([[3.1415926, 2.71828], [1.61803, 0.0072897]])\n",
    "print(some_constants)\n",
    "\n",
    "some_integers = torch.tensor((2, 3, 5, 7, 11, 13, 17, 19))\n",
    "print(some_integers)\n",
    "\n",
    "more_integers = torch.tensor(((2, 4, 6), [3, 6, 9]))\n",
    "print(more_integers)"
   ]
  },
  {
   "cell_type": "markdown",
   "metadata": {
    "id": "ImNl3pi5KLLM"
   },
   "source": [
    "Using ``torch.tensor()`` is the most straightforward way to create a\n",
    "tensor if you already have data in a Python tuple or list. As shown\n",
    "above, nesting the collections will result in a multi-dimensional\n",
    "tensor.\n",
    "\n",
    "<div class=\"alert alert-info\"><h4>Note</h4><p>``torch.tensor()`` creates a copy of the data.</p></div>\n",
    "\n",
    "### Tensor Data Types\n",
    "\n",
    "Setting the datatype of a tensor is possible a couple of ways:\n",
    "\n",
    "\n"
   ]
  },
  {
   "cell_type": "code",
   "execution_count": 49,
   "metadata": {
    "colab": {
     "base_uri": "https://localhost:8080/"
    },
    "id": "C1FrpEfNKLLM",
    "outputId": "f8611071-268d-4242-f8a1-45f6e885ed92"
   },
   "outputs": [
    {
     "name": "stdout",
     "output_type": "stream",
     "text": [
      "tensor([[1, 1, 1],\n",
      "        [1, 1, 1]], dtype=torch.int16)\n",
      "tensor([[ 0.9956,  1.4148,  5.8364],\n",
      "        [11.2406, 11.2083, 11.6692]], dtype=torch.float64)\n",
      "tensor([[ 0,  1,  5],\n",
      "        [11, 11, 11]], dtype=torch.int32)\n"
     ]
    }
   ],
   "source": [
    "a = torch.ones((2, 3), dtype=torch.int16)\n",
    "print(a)\n",
    "\n",
    "b = torch.rand((2, 3), dtype=torch.float64) * 20.\n",
    "print(b)\n",
    "\n",
    "c = b.to(torch.int32)\n",
    "print(c)"
   ]
  },
  {
   "cell_type": "markdown",
   "metadata": {
    "id": "JEBoIOrdKLLM"
   },
   "source": [
    "The simplest way to set the underlying data type of a tensor is with an\n",
    "optional argument at creation time. In the first line of the cell above,\n",
    "we set ``dtype=torch.int16`` for the tensor ``a``. When we print ``a``,\n",
    "we can see that it’s full of ``1`` rather than ``1.`` - Python’s subtle\n",
    "cue that this is an integer type rather than floating point.\n",
    "\n",
    "Another thing to notice about printing ``a`` is that, unlike when we\n",
    "left ``dtype`` as the default (32-bit floating point), printing the\n",
    "tensor also specifies its ``dtype``.\n",
    "\n",
    "You may have also spotted that we went from specifying the tensor’s\n",
    "shape as a series of integer arguments, to grouping those arguments in a\n",
    "tuple. This is not strictly necessary - PyTorch will take a series of\n",
    "initial, unlabeled integer arguments as a tensor shape - but when adding\n",
    "the optional arguments, it can make your intent more readable.\n",
    "\n",
    "The other way to set the datatype is with the ``.to()`` method. In the\n",
    "cell above, we create a random floating point tensor ``b`` in the usual\n",
    "way. Following that, we create ``c`` by converting ``b`` to a 32-bit\n",
    "integer with the ``.to()`` method. Note that ``c`` contains all the same\n",
    "values as ``b``, but truncated to integers.\n",
    "\n",
    "Available data types include:\n",
    "\n",
    "-  ``torch.bool``\n",
    "-  ``torch.int8``\n",
    "-  ``torch.uint8``\n",
    "-  ``torch.int16``\n",
    "-  ``torch.int32``\n",
    "-  ``torch.int64``\n",
    "-  ``torch.half``\n",
    "-  ``torch.float``\n",
    "-  ``torch.double``\n",
    "-  ``torch.bfloat``\n",
    "\n",
    "## Math & Logic with PyTorch Tensors\n",
    "\n",
    "Now that you know some of the ways to create a tensor… what can you do\n",
    "with them?\n",
    "\n",
    "Let’s look at basic arithmetic first, and how tensors interact with\n",
    "simple scalars:\n",
    "\n",
    "\n"
   ]
  },
  {
   "cell_type": "code",
   "execution_count": 50,
   "metadata": {
    "colab": {
     "base_uri": "https://localhost:8080/"
    },
    "id": "dcMOguajKLLM",
    "outputId": "b7d7cf55-dade-49bb-f292-5f875b1766f1"
   },
   "outputs": [
    {
     "name": "stdout",
     "output_type": "stream",
     "text": [
      "tensor([[1., 1.],\n",
      "        [1., 1.]])\n",
      "tensor([[2., 2.],\n",
      "        [2., 2.]])\n",
      "tensor([[3., 3.],\n",
      "        [3., 3.]])\n",
      "tensor([[4., 4.],\n",
      "        [4., 4.]])\n",
      "tensor([[1.4142, 1.4142],\n",
      "        [1.4142, 1.4142]])\n"
     ]
    }
   ],
   "source": [
    "ones = torch.zeros(2, 2) + 1\n",
    "twos = torch.ones(2, 2) * 2\n",
    "threes = (torch.ones(2, 2) * 7 - 1) / 2\n",
    "fours = twos ** 2\n",
    "sqrt2s = twos ** 0.5\n",
    "\n",
    "print(ones)\n",
    "print(twos)\n",
    "print(threes)\n",
    "print(fours)\n",
    "print(sqrt2s)"
   ]
  },
  {
   "cell_type": "markdown",
   "metadata": {
    "id": "1RqLwngWKLLN"
   },
   "source": [
    "As you can see above, arithmetic operations between tensors and scalars,\n",
    "such as addition, subtraction, multiplication, division, and\n",
    "exponentiation are distributed over every element of the tensor. Because\n",
    "the output of such an operation will be a tensor, you can chain them\n",
    "together with the usual operator precedence rules, as in the line where\n",
    "we create ``threes``.\n",
    "\n",
    "Similar operations between two tensors also behave like you’d\n",
    "intuitively expect:\n",
    "\n",
    "\n"
   ]
  },
  {
   "cell_type": "code",
   "execution_count": 51,
   "metadata": {
    "colab": {
     "base_uri": "https://localhost:8080/"
    },
    "id": "9RbCHGcGKLLN",
    "outputId": "4d989bd2-6329-4394-8c45-618fbfaa32cd"
   },
   "outputs": [
    {
     "name": "stdout",
     "output_type": "stream",
     "text": [
      "tensor([[ 2.,  4.],\n",
      "        [ 8., 16.]])\n",
      "tensor([[5., 5.],\n",
      "        [5., 5.]])\n",
      "tensor([[12., 12.],\n",
      "        [12., 12.]])\n"
     ]
    }
   ],
   "source": [
    "powers2 = twos ** torch.tensor([[1, 2], [3, 4]])\n",
    "print(powers2)\n",
    "\n",
    "fives = ones + fours\n",
    "print(fives)\n",
    "\n",
    "dozens = threes * fours\n",
    "print(dozens)"
   ]
  },
  {
   "cell_type": "markdown",
   "metadata": {
    "id": "OaBXjsmTKLLN"
   },
   "source": [
    "It’s important to note here that all of the tensors in the previous code\n",
    "cell were of identical shape. What happens when we try to perform a\n",
    "binary operation on tensors if dissimilar shape?\n",
    "\n",
    "<div class=\"alert alert-info\"><h4>Note</h4><p>The following cell throws a run-time error. This is intentional.</p></div>\n",
    "\n",
    "::\n",
    "\n",
    "   a = torch.rand(2, 3)\n",
    "   b = torch.rand(3, 2)\n",
    "\n",
    "   print(a * b)\n",
    "\n",
    "\n"
   ]
  },
  {
   "cell_type": "markdown",
   "metadata": {
    "id": "SdK4zf8oKLLN"
   },
   "source": [
    "In the general case, you cannot operate on tensors of different shape\n",
    "this way, even in a case like the cell above, where the tensors have an\n",
    "identical number of elements.\n",
    "\n",
    "### In Brief: Tensor Broadcasting\n",
    "\n",
    "<div class=\"alert alert-info\"><h4>Note</h4><p>If you are familiar with broadcasting semantics in NumPy\n",
    "     ndarrays, you’ll find the same rules apply here.</p></div>\n",
    "\n",
    "The exception to the same-shapes rule is *tensor broadcasting.* Here’s\n",
    "an example:\n",
    "\n",
    "\n"
   ]
  },
  {
   "cell_type": "code",
   "execution_count": 52,
   "metadata": {
    "colab": {
     "base_uri": "https://localhost:8080/"
    },
    "id": "zOkwp1HCKLLN",
    "outputId": "574052a2-643f-4a3e-8696-d59bf803af2c"
   },
   "outputs": [
    {
     "name": "stdout",
     "output_type": "stream",
     "text": [
      "tensor([[0.6146, 0.5999, 0.5013, 0.9397],\n",
      "        [0.8656, 0.5207, 0.6865, 0.3614]])\n",
      "tensor([[1.2291, 1.1998, 1.0026, 1.8793],\n",
      "        [1.7312, 1.0413, 1.3730, 0.7228]])\n"
     ]
    }
   ],
   "source": [
    "rand = torch.rand(2, 4)\n",
    "doubled = rand * (torch.ones(1, 4) * 2)\n",
    "\n",
    "print(rand)\n",
    "print(doubled)"
   ]
  },
  {
   "cell_type": "markdown",
   "metadata": {
    "id": "QbzATLK9KLLN"
   },
   "source": [
    "What’s the trick here? How is it we got to multiply a 2x4 tensor by a\n",
    "1x4 tensor?\n",
    "\n",
    "Broadcasting is a way to perform an operation between tensors that have\n",
    "similarities in their shapes. In the example above, the one-row,\n",
    "four-column tensor is multiplied by *both rows* of the two-row,\n",
    "four-column tensor.\n",
    "\n",
    "This is an important operation in Deep Learning. The common example is\n",
    "multiplying a tensor of learning weights by a *batch* of input tensors,\n",
    "applying the operation to each instance in the batch separately, and\n",
    "returning a tensor of identical shape - just like our (2, 4) \\* (1, 4)\n",
    "example above returned a tensor of shape (2, 4).\n",
    "\n",
    "The rules for broadcasting are:\n",
    "\n",
    "-  Each tensor must have at least one dimension - no empty tensors.\n",
    "\n",
    "-  Comparing the dimension sizes of the two tensors, *going from last to\n",
    "   first:*\n",
    "\n",
    "   -  Each dimension must be equal, *or*\n",
    "\n",
    "   -  One of the dimensions must be of size 1, *or*\n",
    "\n",
    "   -  The dimension does not exist in one of the tensors\n",
    "\n",
    "Tensors of identical shape, of course, are trivially “broadcastable”, as\n",
    "you saw earlier.\n",
    "\n",
    "Here are some examples of situations that honor the above rules and\n",
    "allow broadcasting:\n",
    "\n",
    "\n"
   ]
  },
  {
   "cell_type": "code",
   "execution_count": 53,
   "metadata": {
    "colab": {
     "base_uri": "https://localhost:8080/"
    },
    "id": "p7GQL_sYKLLN",
    "outputId": "06a3552d-8b95-4ea4-81d0-5f5a2c5701e5"
   },
   "outputs": [
    {
     "name": "stdout",
     "output_type": "stream",
     "text": [
      "tensor([[[0.6493, 0.2633],\n",
      "         [0.4762, 0.0548],\n",
      "         [0.2024, 0.5731]],\n",
      "\n",
      "        [[0.6493, 0.2633],\n",
      "         [0.4762, 0.0548],\n",
      "         [0.2024, 0.5731]],\n",
      "\n",
      "        [[0.6493, 0.2633],\n",
      "         [0.4762, 0.0548],\n",
      "         [0.2024, 0.5731]],\n",
      "\n",
      "        [[0.6493, 0.2633],\n",
      "         [0.4762, 0.0548],\n",
      "         [0.2024, 0.5731]]])\n",
      "tensor([[[0.7191, 0.7191],\n",
      "         [0.4067, 0.4067],\n",
      "         [0.7301, 0.7301]],\n",
      "\n",
      "        [[0.7191, 0.7191],\n",
      "         [0.4067, 0.4067],\n",
      "         [0.7301, 0.7301]],\n",
      "\n",
      "        [[0.7191, 0.7191],\n",
      "         [0.4067, 0.4067],\n",
      "         [0.7301, 0.7301]],\n",
      "\n",
      "        [[0.7191, 0.7191],\n",
      "         [0.4067, 0.4067],\n",
      "         [0.7301, 0.7301]]])\n",
      "tensor([[[0.6276, 0.7357],\n",
      "         [0.6276, 0.7357],\n",
      "         [0.6276, 0.7357]],\n",
      "\n",
      "        [[0.6276, 0.7357],\n",
      "         [0.6276, 0.7357],\n",
      "         [0.6276, 0.7357]],\n",
      "\n",
      "        [[0.6276, 0.7357],\n",
      "         [0.6276, 0.7357],\n",
      "         [0.6276, 0.7357]],\n",
      "\n",
      "        [[0.6276, 0.7357],\n",
      "         [0.6276, 0.7357],\n",
      "         [0.6276, 0.7357]]])\n"
     ]
    }
   ],
   "source": [
    "a =     torch.ones(4, 3, 2)\n",
    "\n",
    "b = a * torch.rand(   3, 2) # 3rd & 2nd dims identical to a, dim 1 absent\n",
    "print(b)\n",
    "\n",
    "c = a * torch.rand(   3, 1) # 3rd dim = 1, 2nd dim identical to a\n",
    "print(c)\n",
    "\n",
    "d = a * torch.rand(   1, 2) # 3rd dim identical to a, 2nd dim = 1\n",
    "print(d)"
   ]
  },
  {
   "cell_type": "markdown",
   "metadata": {
    "id": "n9fyAA0aKLLO"
   },
   "source": [
    "Look closely at the values of each tensor above: \n",
    "\n",
    "-  The multiplication operation that created ``b`` was \n",
    "   broadcast over every “layer” of ``a``.\n",
    "-  For ``c``, the operation was broadcast over ever layer and row of\n",
    "   ``a`` - every 3-element column is identical. \n",
    "-  For ``d``, we switched it around - now every *row* is identical,\n",
    "   across layers and columns.\n",
    "\n",
    "For more information on broadcasting, see the [PyTorch\n",
    "documentation](https://pytorch.org/docs/stable/notes/broadcasting.html)_\n",
    "on the topic.\n",
    "\n",
    "Here are some examples of attempts at broadcasting that will fail:\n",
    "\n",
    "<div class=\"alert alert-info\"><h4>Note</h4><p>The following cell throws a run-time error. This is intentional.</p></div>\n",
    "\n",
    "::\n",
    "\n",
    "   a =     torch.ones(4, 3, 2)\n",
    "\n",
    "   b = a * torch.rand(4, 3)    # dimensions must match last-to-first\n",
    "\n",
    "   c = a * torch.rand(   2, 3) # both 3rd & 2nd dims different\n",
    "\n",
    "   d = a * torch.rand((0, ))   # can't broadcast with an empty tensor\n",
    "\n",
    "\n"
   ]
  },
  {
   "cell_type": "markdown",
   "metadata": {
    "id": "eUp-4QLRKLLO"
   },
   "source": [
    "### More Math with Tensors\n",
    "\n",
    "PyTorch tensors have over three hundred operations that can be performed\n",
    "on them.\n",
    "\n",
    "Here is a small sample from some of the major categories of operations:\n",
    "\n",
    "\n"
   ]
  },
  {
   "cell_type": "code",
   "execution_count": 54,
   "metadata": {
    "colab": {
     "base_uri": "https://localhost:8080/"
    },
    "id": "9ehWoS-DKLLO",
    "outputId": "ae979ae5-1515-439e-963b-384c12b598d2"
   },
   "outputs": [
    {
     "name": "stdout",
     "output_type": "stream",
     "text": [
      "Common functions:\n",
      "tensor([[0.9238, 0.5724, 0.0791, 0.2629],\n",
      "        [0.1986, 0.4439, 0.6434, 0.4776]])\n",
      "tensor([[-0., -0., 1., -0.],\n",
      "        [-0., 1., 1., -0.]])\n",
      "tensor([[-1., -1.,  0., -1.],\n",
      "        [-1.,  0.,  0., -1.]])\n",
      "tensor([[-0.5000, -0.5000,  0.0791, -0.2629],\n",
      "        [-0.1986,  0.4439,  0.5000, -0.4776]])\n",
      "\n",
      "Sine and arcsine:\n",
      "tensor([0.0000, 0.7854, 1.5708, 2.3562])\n",
      "tensor([0.0000, 0.7071, 1.0000, 0.7071])\n",
      "tensor([0.0000, 0.7854, 1.5708, 0.7854])\n",
      "\n",
      "Bitwise XOR:\n",
      "tensor([3, 2, 1])\n",
      "\n",
      "Broadcasted, element-wise equality comparison:\n",
      "tensor([[ True, False],\n",
      "        [False, False]])\n",
      "\n",
      "Reduction ops:\n",
      "tensor(4.)\n",
      "4.0\n",
      "tensor(2.5000)\n",
      "tensor(1.2910)\n",
      "tensor(24.)\n",
      "tensor([1, 2])\n",
      "\n",
      "Vectors & Matrices:\n",
      "tensor([ 0.,  0., -1.])\n",
      "tensor([[0.7375, 0.8328],\n",
      "        [0.8444, 0.2941]])\n",
      "tensor([[2.2125, 2.4985],\n",
      "        [2.5332, 0.8822]])\n",
      "torch.return_types.svd(\n",
      "U=tensor([[-0.7889, -0.6145],\n",
      "        [-0.6145,  0.7889]]),\n",
      "S=tensor([4.1498, 1.0548]),\n",
      "V=tensor([[-0.7957,  0.6056],\n",
      "        [-0.6056, -0.7957]]))\n"
     ]
    }
   ],
   "source": [
    "# common functions\n",
    "a = torch.rand(2, 4) * 2 - 1\n",
    "print('Common functions:')\n",
    "print(torch.abs(a))\n",
    "print(torch.ceil(a))\n",
    "print(torch.floor(a))\n",
    "print(torch.clamp(a, -0.5, 0.5))\n",
    "\n",
    "# trigonometric functions and their inverses\n",
    "angles = torch.tensor([0, math.pi / 4, math.pi / 2, 3 * math.pi / 4])\n",
    "sines = torch.sin(angles)\n",
    "inverses = torch.asin(sines)\n",
    "print('\\nSine and arcsine:')\n",
    "print(angles)\n",
    "print(sines)\n",
    "print(inverses)\n",
    "\n",
    "# bitwise operations\n",
    "print('\\nBitwise XOR:')\n",
    "b = torch.tensor([1, 5, 11])\n",
    "c = torch.tensor([2, 7, 10])\n",
    "print(torch.bitwise_xor(b, c))\n",
    "\n",
    "# comparisons:\n",
    "print('\\nBroadcasted, element-wise equality comparison:')\n",
    "d = torch.tensor([[1., 2.], [3., 4.]])\n",
    "e = torch.ones(1, 2)  # many comparison ops support broadcasting!\n",
    "print(torch.eq(d, e)) # returns a tensor of type bool\n",
    "\n",
    "# reductions:\n",
    "print('\\nReduction ops:')\n",
    "print(torch.max(d))        # returns a single-element tensor\n",
    "print(torch.max(d).item()) # extracts the value from the returned tensor\n",
    "print(torch.mean(d))       # average\n",
    "print(torch.std(d))        # standard deviation\n",
    "print(torch.prod(d))       # product of all numbers\n",
    "print(torch.unique(torch.tensor([1, 2, 1, 2, 1, 2]))) # filter unique elements\n",
    "\n",
    "# vector and linear algebra operations\n",
    "v1 = torch.tensor([1., 0., 0.])         # x unit vector\n",
    "v2 = torch.tensor([0., 1., 0.])         # y unit vector\n",
    "m1 = torch.rand(2, 2)                   # random matrix\n",
    "m2 = torch.tensor([[3., 0.], [0., 3.]]) # three times identity matrix\n",
    "\n",
    "print('\\nVectors & Matrices:')\n",
    "print(torch.cross(v2, v1)) # negative of z unit vector (v1 x v2 == -v2 x v1)\n",
    "print(m1)\n",
    "m3 = torch.matmul(m1, m2)\n",
    "print(m3)                  # 3 times m1\n",
    "print(torch.svd(m3))       # singular value decomposition"
   ]
  },
  {
   "cell_type": "markdown",
   "metadata": {
    "id": "1debp6KTKLLO"
   },
   "source": [
    "This is a small sample of operations. For more details and the full inventory of\n",
    "math functions, have a look at the\n",
    "[documentation](https://pytorch.org/docs/stable/torch.html#math-operations)_.\n",
    "\n",
    "### Altering Tensors in Place\n",
    "\n",
    "Most binary operations on tensors will return a third, new tensor. When\n",
    "we say ``c = a * b`` (where ``a`` and ``b`` are tensors), the new tensor\n",
    "``c`` will occupy a region of memory distinct from the other tensors.\n",
    "\n",
    "There are times, though, that you may wish to alter a tensor in place -\n",
    "for example, if you’re doing an element-wise computation where you can\n",
    "discard intermediate values. For this, most of the math functions have a\n",
    "version with an appended underscore (``_``) that will alter a tensor in\n",
    "place.\n",
    "\n",
    "For example:\n",
    "\n",
    "\n"
   ]
  },
  {
   "cell_type": "code",
   "execution_count": 14,
   "metadata": {
    "colab": {
     "base_uri": "https://localhost:8080/"
    },
    "id": "Mp6170J9KLLO",
    "outputId": "9e65cbba-34bc-42d2-9e27-dbd3858093d2"
   },
   "outputs": [
    {
     "name": "stdout",
     "output_type": "stream",
     "text": [
      "a:\n",
      "tensor([0.0000, 0.7854, 1.5708, 2.3562])\n",
      "tensor([0.0000, 0.7071, 1.0000, 0.7071])\n",
      "tensor([0.0000, 0.7854, 1.5708, 2.3562])\n",
      "\n",
      "b:\n",
      "tensor([0.0000, 0.7854, 1.5708, 2.3562])\n",
      "tensor([0.0000, 0.7071, 1.0000, 0.7071])\n",
      "tensor([0.0000, 0.7071, 1.0000, 0.7071])\n"
     ]
    }
   ],
   "source": [
    "a = torch.tensor([0, math.pi / 4, math.pi / 2, 3 * math.pi / 4])\n",
    "print('a:')\n",
    "print(a)\n",
    "print(torch.sin(a))   # this operation creates a new tensor in memory\n",
    "print(a)              # a has not changed\n",
    "\n",
    "b = torch.tensor([0, math.pi / 4, math.pi / 2, 3 * math.pi / 4])\n",
    "print('\\nb:')\n",
    "print(b)\n",
    "print(torch.sin_(b))  # note the underscore\n",
    "print(b)              # b has changed"
   ]
  },
  {
   "cell_type": "markdown",
   "metadata": {
    "id": "r8sXbvPqKLLO"
   },
   "source": [
    "For arithmetic operations, there are functions that behave similarly:\n",
    "\n",
    "\n"
   ]
  },
  {
   "cell_type": "code",
   "execution_count": 15,
   "metadata": {
    "colab": {
     "base_uri": "https://localhost:8080/"
    },
    "id": "hGw-gfoNKLLO",
    "outputId": "e649f090-0c46-428a-d293-e2b8a9543777"
   },
   "outputs": [
    {
     "name": "stdout",
     "output_type": "stream",
     "text": [
      "Before:\n",
      "tensor([[1., 1.],\n",
      "        [1., 1.]])\n",
      "tensor([[0.3788, 0.4567],\n",
      "        [0.0649, 0.6677]])\n",
      "\n",
      "After adding:\n",
      "tensor([[1.3788, 1.4567],\n",
      "        [1.0649, 1.6677]])\n",
      "tensor([[1.3788, 1.4567],\n",
      "        [1.0649, 1.6677]])\n",
      "tensor([[0.3788, 0.4567],\n",
      "        [0.0649, 0.6677]])\n",
      "\n",
      "After multiplying\n",
      "tensor([[0.1435, 0.2086],\n",
      "        [0.0042, 0.4459]])\n",
      "tensor([[0.1435, 0.2086],\n",
      "        [0.0042, 0.4459]])\n"
     ]
    }
   ],
   "source": [
    "a = torch.ones(2, 2)\n",
    "b = torch.rand(2, 2)\n",
    "\n",
    "print('Before:')\n",
    "print(a)\n",
    "print(b)\n",
    "print('\\nAfter adding:')\n",
    "print(a.add_(b))\n",
    "print(a)\n",
    "print(b)\n",
    "print('\\nAfter multiplying')\n",
    "print(b.mul_(b))\n",
    "print(b)"
   ]
  },
  {
   "cell_type": "markdown",
   "metadata": {
    "id": "bfwOISBoKLLO"
   },
   "source": [
    "Note that these in-place arithmetic functions are methods on the\n",
    "``torch.Tensor`` object, not attached to the ``torch`` module like many\n",
    "other functions (e.g., ``torch.sin()``). As you can see from\n",
    "``a.add_(b)``, *the calling tensor is the one that gets changed in\n",
    "place.*\n",
    "\n",
    "There is another option for placing the result of a computation in an\n",
    "existing, allocated tensor. Many of the methods and functions we’ve seen\n",
    "so far - including creation methods! - have an ``out`` argument that\n",
    "lets you specify a tensor to receive the output. If the ``out`` tensor\n",
    "is the correct shape and ``dtype``, this can happen without a new memory\n",
    "allocation:\n",
    "\n",
    "\n"
   ]
  },
  {
   "cell_type": "code",
   "execution_count": 16,
   "metadata": {
    "colab": {
     "base_uri": "https://localhost:8080/"
    },
    "id": "sPYR6cXUKLLO",
    "outputId": "3874c685-63b7-4e0e-d5f8-547786f9e451"
   },
   "outputs": [
    {
     "name": "stdout",
     "output_type": "stream",
     "text": [
      "tensor([[0., 0.],\n",
      "        [0., 0.]])\n",
      "tensor([[0.3653, 0.8699],\n",
      "        [0.2364, 0.3604]])\n",
      "tensor([[0.0776, 0.4004],\n",
      "        [0.9877, 0.0352]])\n"
     ]
    }
   ],
   "source": [
    "a = torch.rand(2, 2)\n",
    "b = torch.rand(2, 2)\n",
    "c = torch.zeros(2, 2)\n",
    "old_id = id(c)\n",
    "\n",
    "print(c)\n",
    "d = torch.matmul(a, b, out=c)\n",
    "print(c)                # contents of c have changed\n",
    "\n",
    "assert c is d           # test c & d are same object, not just containing equal values\n",
    "assert id(c) == old_id  # make sure that our new c is the same object as the old one\n",
    "\n",
    "torch.rand(2, 2, out=c) # works for creation too!\n",
    "print(c)                # c has changed again\n",
    "assert id(c) == old_id  # still the same object!"
   ]
  },
  {
   "cell_type": "markdown",
   "metadata": {
    "id": "u5W7JE1LKLLO"
   },
   "source": [
    "## Copying Tensors\n",
    "\n",
    "As with any object in Python, assigning a tensor to a variable makes the\n",
    "variable a *label* of the tensor, and does not copy it. For example:\n",
    "\n",
    "\n"
   ]
  },
  {
   "cell_type": "code",
   "execution_count": 17,
   "metadata": {
    "colab": {
     "base_uri": "https://localhost:8080/"
    },
    "id": "oneJY3qFKLLO",
    "outputId": "c273f19c-1394-43e6-d33b-71f3a131fb05"
   },
   "outputs": [
    {
     "name": "stdout",
     "output_type": "stream",
     "text": [
      "tensor([[  1., 561.],\n",
      "        [  1.,   1.]])\n"
     ]
    }
   ],
   "source": [
    "a = torch.ones(2, 2)\n",
    "b = a\n",
    "\n",
    "a[0][1] = 561  # we change a...\n",
    "print(b)       # ...and b is also altered"
   ]
  },
  {
   "cell_type": "markdown",
   "metadata": {
    "id": "yXmydqhaKLLO"
   },
   "source": [
    "But what if you want a separate copy of the data to work on? The\n",
    "``clone()`` method is there for you:\n",
    "\n",
    "\n"
   ]
  },
  {
   "cell_type": "code",
   "execution_count": 18,
   "metadata": {
    "colab": {
     "base_uri": "https://localhost:8080/"
    },
    "id": "YG5ycuaCKLLP",
    "outputId": "2dcc1219-d5d1-4c74-cf0f-064d81abb06a"
   },
   "outputs": [
    {
     "name": "stdout",
     "output_type": "stream",
     "text": [
      "tensor([[True, True],\n",
      "        [True, True]])\n",
      "tensor([[1., 1.],\n",
      "        [1., 1.]])\n"
     ]
    }
   ],
   "source": [
    "a = torch.ones(2, 2)\n",
    "b = a.clone()\n",
    "\n",
    "assert b is not a      # different objects in memory...\n",
    "print(torch.eq(a, b))  # ...but still with the same contents!\n",
    "\n",
    "a[0][1] = 561          # a changes...\n",
    "print(b)               # ...but b is still all ones"
   ]
  },
  {
   "cell_type": "markdown",
   "metadata": {
    "id": "bHfxkvTwKLLP"
   },
   "source": [
    "**There is an important thing to be aware of when using ``clone()``.**\n",
    "If your source tensor has autograd, enabled then so will the clone.\n",
    "**This will be covered more deeply in the video on autograd,** but if\n",
    "you want the light version of the details, continue on.\n",
    "\n",
    "*In many cases, this will be what you want.* For example, if your model\n",
    "has multiple computation paths in its ``forward()`` method, and *both*\n",
    "the original tensor and its clone contribute to the model’s output, then\n",
    "to enable model learning you want autograd turned on for both tensors.\n",
    "If your source tensor has autograd enabled (which it generally will if\n",
    "it’s a set of learning weights or derived from a computation involving\n",
    "the weights), then you’ll get the result you want.\n",
    "\n",
    "On the other hand, if you’re doing a computation where *neither* the\n",
    "original tensor nor its clone need to track gradients, then as long as\n",
    "the source tensor has autograd turned off, you’re good to go.\n",
    "\n",
    "*There is a third case,* though: Imagine you’re performing a computation\n",
    "in your model’s ``forward()`` function, where gradients are turned on\n",
    "for everything by default, but you want to pull out some values\n",
    "mid-stream to generate some metrics. In this case, you *don’t* want the\n",
    "cloned copy of your source tensor to track gradients - performance is\n",
    "improved with autograd’s history tracking turned off. For this, you can\n",
    "use the ``.detach()`` method on the source tensor:\n",
    "\n",
    "\n"
   ]
  },
  {
   "cell_type": "code",
   "execution_count": 19,
   "metadata": {
    "colab": {
     "base_uri": "https://localhost:8080/"
    },
    "id": "0V-Y3Iu2KLLP",
    "outputId": "954deea0-da67-4513-a478-ee8d2cc4c28c"
   },
   "outputs": [
    {
     "name": "stdout",
     "output_type": "stream",
     "text": [
      "tensor([[0.0905, 0.4485],\n",
      "        [0.8740, 0.2526]], requires_grad=True)\n",
      "tensor([[0.0905, 0.4485],\n",
      "        [0.8740, 0.2526]], grad_fn=<CloneBackward0>)\n",
      "tensor([[0.0905, 0.4485],\n",
      "        [0.8740, 0.2526]])\n",
      "tensor([[0.0905, 0.4485],\n",
      "        [0.8740, 0.2526]], requires_grad=True)\n"
     ]
    }
   ],
   "source": [
    "a = torch.rand(2, 2, requires_grad=True) # turn on autograd\n",
    "print(a)\n",
    "\n",
    "b = a.clone()\n",
    "print(b)\n",
    "\n",
    "c = a.detach().clone()\n",
    "print(c)\n",
    "\n",
    "print(a)"
   ]
  },
  {
   "cell_type": "markdown",
   "metadata": {
    "id": "3lrLmrzOKLLP"
   },
   "source": [
    "What’s happening here?\n",
    "\n",
    "-  We create ``a`` with ``requires_grad=True`` turned on. **We haven’t\n",
    "   covered this optional argument yet, but will during the unit on\n",
    "   autograd.**\n",
    "-  When we print ``a``, it informs us that the property\n",
    "   ``requires_grad=True`` - this means that autograd and computation\n",
    "   history tracking are turned on.\n",
    "-  We clone ``a`` and label it ``b``. When we print ``b``, we can see\n",
    "   that it’s tracking its computation history - it has inherited\n",
    "   ``a``\\ ’s autograd settings, and added to the computation history.\n",
    "-  We clone ``a`` into ``c``, but we call ``detach()`` first.\n",
    "-  Printing ``c``, we see no computation history, and no\n",
    "   ``requires_grad=True``.\n",
    "\n",
    "The ``detach()`` method *detaches the tensor from its computation\n",
    "history.* It says, “do whatever comes next as if autograd was off.” It\n",
    "does this *without* changing ``a`` - you can see that when we print\n",
    "``a`` again at the end, it retains its ``requires_grad=True`` property.\n",
    "\n",
    "## Moving to GPU\n",
    "\n",
    "One of the major advantages of PyTorch is its robust acceleration on\n",
    "CUDA-compatible Nvidia GPUs. (“CUDA” stands for *Compute Unified Device\n",
    "Architecture*, which is Nvidia’s platform for parallel computing.) So\n",
    "far, everything we’ve done has been on CPU. How do we move to the faster\n",
    "hardware?\n",
    "\n",
    "First, we should check whether a GPU is available, with the\n",
    "``is_available()`` method.\n",
    "\n",
    "<div class=\"alert alert-info\"><h4>Note</h4><p>If you do not have a CUDA-compatible GPU and CUDA drivers\n",
    "     installed, the executable cells in this section will not execute any\n",
    "     GPU-related code.</p></div>\n",
    "\n",
    "\n"
   ]
  },
  {
   "cell_type": "code",
   "execution_count": 55,
   "metadata": {},
   "outputs": [
    {
     "data": {
      "text/plain": [
       "True"
      ]
     },
     "execution_count": 55,
     "metadata": {},
     "output_type": "execute_result"
    }
   ],
   "source": [
    "torch.cuda.is_available()"
   ]
  },
  {
   "cell_type": "code",
   "execution_count": 56,
   "metadata": {
    "colab": {
     "base_uri": "https://localhost:8080/"
    },
    "id": "ywmQ4jchKLLP",
    "outputId": "ac165c34-b492-4689-d4e4-f250807e3295"
   },
   "outputs": [
    {
     "name": "stdout",
     "output_type": "stream",
     "text": [
      "We have a GPU!\n"
     ]
    }
   ],
   "source": [
    "if torch.cuda.is_available():\n",
    "    print('We have a GPU!')\n",
    "else:\n",
    "    print('Sorry, CPU only.')"
   ]
  },
  {
   "cell_type": "markdown",
   "metadata": {
    "id": "4QiW_y7RKLLP"
   },
   "source": [
    "Once we’ve determined that one or more GPUs is available, we need to put\n",
    "our data someplace where the GPU can see it. Your CPU does computation\n",
    "on data in your computer’s RAM. Your GPU has dedicated memory attached\n",
    "to it. Whenever you want to perform a computation on a device, you must\n",
    "move *all* the data needed for that computation to memory accessible by\n",
    "that device. (Colloquially, “moving the data to memory accessible by the\n",
    "GPU” is shorted to, “moving the data to the GPU”.)\n",
    "\n",
    "There are multiple ways to get your data onto your target device. You\n",
    "may do it at creation time:\n",
    "\n",
    "\n"
   ]
  },
  {
   "cell_type": "code",
   "execution_count": 57,
   "metadata": {
    "colab": {
     "base_uri": "https://localhost:8080/"
    },
    "id": "kMnzkOshKLLP",
    "outputId": "09ba94c9-7df0-4ba6-e41b-1dec0e3347d5"
   },
   "outputs": [
    {
     "name": "stdout",
     "output_type": "stream",
     "text": [
      "tensor([[0.3344, 0.2640],\n",
      "        [0.2119, 0.0582]], device='cuda:0')\n"
     ]
    }
   ],
   "source": [
    "if torch.cuda.is_available():\n",
    "    gpu_rand = torch.rand(2, 2, device='cuda')\n",
    "    print(gpu_rand)\n",
    "else:\n",
    "    print('Sorry, CPU only.')"
   ]
  },
  {
   "cell_type": "code",
   "execution_count": 23,
   "metadata": {},
   "outputs": [
    {
     "data": {
      "text/plain": [
       "tensor([[0.3344, 0.2640],\n",
       "        [0.2119, 0.0582]], device='cuda:0')"
      ]
     },
     "execution_count": 23,
     "metadata": {},
     "output_type": "execute_result"
    }
   ],
   "source": [
    "gpu_rand.cuda()"
   ]
  },
  {
   "cell_type": "markdown",
   "metadata": {
    "id": "2-CeO-t7KLLP"
   },
   "source": [
    "By default, new tensors are created on the CPU, so we have to specify\n",
    "when we want to create our tensor on the GPU with the optional\n",
    "``device`` argument. You can see when we print the new tensor, PyTorch\n",
    "informs us which device it’s on (if it’s not on CPU).\n",
    "\n",
    "You can query the number of GPUs with ``torch.cuda.device_count()``. If\n",
    "you have more than one GPU, you can specify them by index:\n",
    "``device='cuda:0'``, ``device='cuda:1'``, etc.\n",
    "\n",
    "As a coding practice, specifying our devices everywhere with string\n",
    "constants is pretty fragile. In an ideal world, your code would perform\n",
    "robustly whether you’re on CPU or GPU hardware. You can do this by\n",
    "creating a device handle that can be passed to your tensors instead of a\n",
    "string:\n",
    "\n",
    "\n"
   ]
  },
  {
   "cell_type": "code",
   "execution_count": 24,
   "metadata": {
    "colab": {
     "base_uri": "https://localhost:8080/"
    },
    "id": "mgi0hD6RKLLP",
    "outputId": "3136a9a1-1eb6-449f-b5d3-82aad637ecb7"
   },
   "outputs": [
    {
     "name": "stdout",
     "output_type": "stream",
     "text": [
      "Device: cuda\n",
      "tensor([[0.0024, 0.6778],\n",
      "        [0.2441, 0.6812]], device='cuda:0')\n"
     ]
    }
   ],
   "source": [
    "if torch.cuda.is_available():\n",
    "    my_device = torch.device('cuda')\n",
    "else:\n",
    "    my_device = torch.device('cpu')\n",
    "print('Device: {}'.format(my_device))\n",
    "\n",
    "x = torch.rand(2, 2, device=my_device)\n",
    "print(x)"
   ]
  },
  {
   "cell_type": "markdown",
   "metadata": {
    "id": "aDyUQ46xKLLP"
   },
   "source": [
    "If you have an existing tensor living on one device, you can move it to\n",
    "another with the ``to()`` method. The following line of code creates a\n",
    "tensor on CPU, and moves it to whichever device handle you acquired in\n",
    "the previous cell.\n",
    "\n",
    "\n"
   ]
  },
  {
   "cell_type": "code",
   "execution_count": 25,
   "metadata": {
    "id": "gouVgA_GKLLP"
   },
   "outputs": [],
   "source": [
    "y = torch.rand(2, 2)\n",
    "y = y.to(my_device)"
   ]
  },
  {
   "cell_type": "code",
   "execution_count": 26,
   "metadata": {},
   "outputs": [
    {
     "data": {
      "text/plain": [
       "tensor([[0.6923, 0.7545],\n",
       "        [0.7746, 0.2330]], device='cuda:0')"
      ]
     },
     "execution_count": 26,
     "metadata": {},
     "output_type": "execute_result"
    }
   ],
   "source": [
    "y"
   ]
  },
  {
   "cell_type": "markdown",
   "metadata": {
    "id": "rTqTSPBPKLLP"
   },
   "source": [
    "It is important to know that in order to do computation involving two or\n",
    "more tensors, *all of the tensors must be on the same device*. The\n",
    "following code will throw a runtime error, regardless of whether you\n",
    "have a GPU device available:\n",
    "\n",
    "::\n",
    "\n",
    "   x = torch.rand(2, 2)\n",
    "   y = torch.rand(2, 2, device='gpu')\n",
    "   z = x + y  # exception will be thrown\n",
    "\n",
    "\n"
   ]
  },
  {
   "cell_type": "markdown",
   "metadata": {
    "id": "MqXUXf-GKLLP"
   },
   "source": [
    "## Manipulating Tensor Shapes\n",
    "\n",
    "Sometimes, you’ll need to change the shape of your tensor. Below, we’ll\n",
    "look at a few common cases, and how to handle them.\n",
    "\n",
    "### Changing the Number of Dimensions\n",
    "\n",
    "One case where you might need to change the number of dimensions is\n",
    "passing a single instance of input to your model. PyTorch models\n",
    "generally expect *batches* of input.\n",
    "\n",
    "For example, imagine having a model that works on 3 x 226 x 226 images -\n",
    "a 226-pixel square with 3 color channels. When you load and transform\n",
    "it, you’ll get a tensor of shape ``(3, 226, 226)``. Your model, though,\n",
    "is expecting input of shape ``(N, 3, 226, 226)``, where ``N`` is the\n",
    "number of images in the batch. So how do you make a batch of one?\n",
    "\n",
    "\n"
   ]
  },
  {
   "cell_type": "code",
   "execution_count": 27,
   "metadata": {
    "colab": {
     "base_uri": "https://localhost:8080/"
    },
    "id": "EwZD78ExKLLP",
    "outputId": "bd48815a-ea7a-47c9-d9c9-d140639b7748"
   },
   "outputs": [
    {
     "name": "stdout",
     "output_type": "stream",
     "text": [
      "torch.Size([3, 226, 226])\n",
      "torch.Size([1, 3, 226, 226])\n",
      "torch.Size([3, 226, 226])\n"
     ]
    }
   ],
   "source": [
    "a = torch.rand(3, 226, 226)\n",
    "b = a.unsqueeze(0)\n",
    "\n",
    "print(a.shape)\n",
    "print(b.shape)\n",
    "c = b.squeeze(0)\n",
    "print(c.shape)"
   ]
  },
  {
   "cell_type": "markdown",
   "metadata": {
    "id": "vTuj_LZ4KLLQ"
   },
   "source": [
    "The ``unsqueeze()`` method adds a dimension of extent 1.\n",
    "``unsqueeze(0)`` adds it as a new zeroth dimension - now you have a\n",
    "batch of one!\n",
    "\n",
    "So if that’s *un*\\ squeezing? What do we mean by squeezing? We’re taking\n",
    "advantage of the fact that any dimension of extent 1 *does not* change\n",
    "the number of elements in the tensor.\n",
    "\n",
    "\n"
   ]
  },
  {
   "cell_type": "code",
   "execution_count": 28,
   "metadata": {
    "colab": {
     "base_uri": "https://localhost:8080/"
    },
    "id": "wiwcEuzdKLLQ",
    "outputId": "1e60e730-3407-4898-812d-94b77d7eb6dd"
   },
   "outputs": [
    {
     "name": "stdout",
     "output_type": "stream",
     "text": [
      "tensor([[[[[0.2347]]]]])\n"
     ]
    }
   ],
   "source": [
    "c = torch.rand(1, 1, 1, 1, 1)\n",
    "print(c)"
   ]
  },
  {
   "cell_type": "markdown",
   "metadata": {
    "id": "5w9oh060KLLQ"
   },
   "source": [
    "Continuing the example above, let’s say the model’s output is a\n",
    "20-element vector for each input. You would then expect the output to\n",
    "have shape ``(N, 20)``, where ``N`` is the number of instances in the\n",
    "input batch. That means that for our single-input batch, we’ll get an\n",
    "output of shape ``(1, 20)``.\n",
    "\n",
    "What if you want to do some *non-batched* computation with that output -\n",
    "something that’s just expecting a 20-element vector?\n",
    "\n",
    "\n"
   ]
  },
  {
   "cell_type": "code",
   "execution_count": 58,
   "metadata": {
    "colab": {
     "base_uri": "https://localhost:8080/"
    },
    "id": "Rp2Ukn0lKLLQ",
    "outputId": "1e13037e-b0f8-425a-8b51-646d64d606d4"
   },
   "outputs": [
    {
     "name": "stdout",
     "output_type": "stream",
     "text": [
      "torch.Size([1, 20])\n",
      "tensor([[0.3788, 0.4567, 0.0649, 0.6677, 0.7826, 0.1332, 0.0023, 0.4945, 0.3857,\n",
      "         0.9883, 0.4762, 0.7242, 0.0776, 0.4004, 0.9877, 0.0352, 0.0905, 0.4485,\n",
      "         0.8740, 0.2526]])\n",
      "torch.Size([20])\n",
      "tensor([0.3788, 0.4567, 0.0649, 0.6677, 0.7826, 0.1332, 0.0023, 0.4945, 0.3857,\n",
      "        0.9883, 0.4762, 0.7242, 0.0776, 0.4004, 0.9877, 0.0352, 0.0905, 0.4485,\n",
      "        0.8740, 0.2526])\n",
      "torch.Size([2, 2])\n",
      "torch.Size([2, 2])\n"
     ]
    }
   ],
   "source": [
    "a = torch.rand(1, 20)\n",
    "print(a.shape)\n",
    "print(a)\n",
    "\n",
    "b = a.squeeze(0)\n",
    "print(b.shape)\n",
    "print(b)\n",
    "\n",
    "c = torch.rand(2, 2)\n",
    "print(c.shape)\n",
    "\n",
    "d = c.squeeze(0)\n",
    "print(d.shape)"
   ]
  },
  {
   "cell_type": "markdown",
   "metadata": {
    "id": "cf5KTd14KLLQ"
   },
   "source": [
    "You can see from the shapes that our 2-dimensional tensor is now\n",
    "1-dimensional, and if you look closely at the output of the cell above\n",
    "you’ll see that printing ``a`` shows an “extra” set of square brackets\n",
    "``[]`` due to having an extra dimension.\n",
    "\n",
    "You may only ``squeeze()`` dimensions of extent 1. See above where we\n",
    "try to squeeze a dimension of size 2 in ``c``, and get back the same\n",
    "shape we started with. Calls to ``squeeze()`` and ``unsqueeze()`` can\n",
    "only act on dimensions of extent 1 because to do otherwise would change\n",
    "the number of elements in the tensor.\n",
    "\n",
    "Another place you might use ``unsqueeze()`` is to ease broadcasting.\n",
    "Recall the example above where we had the following code:\n",
    "\n",
    "::\n",
    "\n",
    "   a =     torch.ones(4, 3, 2)\n",
    "\n",
    "   c = a * torch.rand(   3, 1) # 3rd dim = 1, 2nd dim identical to a\n",
    "   print(c)\n",
    "\n",
    "The net effect of that was to broadcast the operation over dimensions 0\n",
    "and 2, causing the random, 3 x 1 tensor to be multiplied element-wise by\n",
    "every 3-element column in ``a``.\n",
    "\n",
    "What if the random vector had just been 3-element vector? We’d lose the\n",
    "ability to do the broadcast, because the final dimensions would not\n",
    "match up according to the broadcasting rules. ``unsqueeze()`` comes to\n",
    "the rescue:\n",
    "\n",
    "\n"
   ]
  },
  {
   "cell_type": "code",
   "execution_count": 30,
   "metadata": {
    "colab": {
     "base_uri": "https://localhost:8080/"
    },
    "id": "bLUxEosSKLLQ",
    "outputId": "f66fdc8d-a5e2-40b5-d30d-d9771df5af78"
   },
   "outputs": [
    {
     "name": "stdout",
     "output_type": "stream",
     "text": [
      "torch.Size([3, 1])\n",
      "tensor([[[0.1891, 0.1891],\n",
      "         [0.3952, 0.3952],\n",
      "         [0.9176, 0.9176]],\n",
      "\n",
      "        [[0.1891, 0.1891],\n",
      "         [0.3952, 0.3952],\n",
      "         [0.9176, 0.9176]],\n",
      "\n",
      "        [[0.1891, 0.1891],\n",
      "         [0.3952, 0.3952],\n",
      "         [0.9176, 0.9176]],\n",
      "\n",
      "        [[0.1891, 0.1891],\n",
      "         [0.3952, 0.3952],\n",
      "         [0.9176, 0.9176]]])\n"
     ]
    }
   ],
   "source": [
    "a = torch.ones(4, 3, 2)\n",
    "b = torch.rand(   3)     # trying to multiply a * b will give a runtime error\n",
    "c = b.unsqueeze(1)       # change to a 2-dimensional tensor, adding new dim at the end\n",
    "print(c.shape)\n",
    "print(a * c)             # broadcasting works again!"
   ]
  },
  {
   "cell_type": "markdown",
   "metadata": {
    "id": "QptS0jHeKLLQ"
   },
   "source": [
    "The ``squeeze()`` and ``unsqueeze()`` methods also have in-place\n",
    "versions, ``squeeze_()`` and ``unsqueeze_()``:\n",
    "\n",
    "\n"
   ]
  },
  {
   "cell_type": "code",
   "execution_count": 31,
   "metadata": {
    "colab": {
     "base_uri": "https://localhost:8080/"
    },
    "id": "LIUYrErBKLLQ",
    "outputId": "54b217af-82e7-4d9e-9d77-52678b00b4d1"
   },
   "outputs": [
    {
     "name": "stdout",
     "output_type": "stream",
     "text": [
      "torch.Size([3, 226, 226])\n",
      "torch.Size([1, 3, 226, 226])\n"
     ]
    }
   ],
   "source": [
    "batch_me = torch.rand(3, 226, 226)\n",
    "print(batch_me.shape)\n",
    "batch_me.unsqueeze_(0)\n",
    "print(batch_me.shape)"
   ]
  },
  {
   "cell_type": "markdown",
   "metadata": {
    "id": "7l9rh67PKLLQ"
   },
   "source": [
    "Sometimes you’ll want to change the shape of a tensor more radically,\n",
    "while still preserving the number of elements and their contents. One\n",
    "case where this happens is at the interface between a convolutional\n",
    "layer of a model and a linear layer of the model - this is common in\n",
    "image classification models. A convolution kernel will yield an output\n",
    "tensor of shape *features x width x height,* but the following linear\n",
    "layer expects a 1-dimensional input. ``reshape()`` will do this for you,\n",
    "provided that the dimensions you request yield the same number of\n",
    "elements as the input tensor has:\n",
    "\n",
    "\n"
   ]
  },
  {
   "cell_type": "code",
   "execution_count": 32,
   "metadata": {
    "colab": {
     "base_uri": "https://localhost:8080/"
    },
    "id": "vY1ILau1KLLQ",
    "outputId": "7a9028e1-ce6e-4469-9781-aa73837f9793"
   },
   "outputs": [
    {
     "name": "stdout",
     "output_type": "stream",
     "text": [
      "torch.Size([6, 20, 20])\n",
      "torch.Size([6, 400])\n",
      "torch.Size([2400])\n"
     ]
    }
   ],
   "source": [
    "output3d = torch.rand(6, 20, 20)\n",
    "print(output3d.shape)\n",
    "\n",
    "input1d = output3d.reshape(6, 20 * 20)\n",
    "print(input1d.shape)\n",
    "\n",
    "# can also call it as a method on the torch module:\n",
    "print(torch.reshape(output3d, (6 * 20 * 20,)).shape)"
   ]
  },
  {
   "cell_type": "markdown",
   "metadata": {
    "id": "ZHxpA_P1KLLQ"
   },
   "source": [
    "<div class=\"alert alert-info\"><h4>Note</h4><p>The ``(6 * 20 * 20,)`` argument in the final line of the cell\n",
    "     above is because PyTorch expects a **tuple** when specifying a\n",
    "     tensor shape - but when the shape is the first argument of a method, it\n",
    "     lets us cheat and just use a series of integers. Here, we had to add the\n",
    "     parentheses and comma to convince the method that this is really a\n",
    "     one-element tuple.</p></div>\n",
    "\n",
    "When it can, ``reshape()`` will return a *view* on the tensor to be\n",
    "changed - that is, a separate tensor object looking at the same\n",
    "underlying region of memory. *This is important:* That means any change\n",
    "made to the source tensor will be reflected in the view on that tensor,\n",
    "unless you ``clone()`` it.\n",
    "\n",
    "There *are* conditions, beyond the scope of this introduction, where\n",
    "``reshape()`` has to return a tensor carrying a copy of the data. For\n",
    "more information, see the\n",
    "[docs](https://pytorch.org/docs/stable/torch.html#torch.reshape)_.\n",
    "\n",
    "\n"
   ]
  },
  {
   "cell_type": "markdown",
   "metadata": {
    "id": "EPjKuQkFKLLQ"
   },
   "source": [
    "## NumPy Bridge\n",
    "\n",
    "In the section above on broadcasting, it was mentioned that PyTorch’s\n",
    "broadcast semantics are compatible with NumPy’s - but the kinship\n",
    "between PyTorch and NumPy goes even deeper than that.\n",
    "\n",
    "If you have existing ML or scientific code with data stored in NumPy\n",
    "ndarrays, you may wish to express that same data as PyTorch tensors,\n",
    "whether to take advantage of PyTorch’s GPU acceleration, or its\n",
    "efficient abstractions for building ML models. It’s easy to switch\n",
    "between ndarrays and PyTorch tensors:\n",
    "\n",
    "\n"
   ]
  },
  {
   "cell_type": "code",
   "execution_count": 33,
   "metadata": {
    "colab": {
     "base_uri": "https://localhost:8080/"
    },
    "id": "8rAH2-fyKLLQ",
    "outputId": "2ba3d8eb-1cff-4dd4-eb04-8694fd4229fd"
   },
   "outputs": [
    {
     "name": "stdout",
     "output_type": "stream",
     "text": [
      "[[1. 1. 1.]\n",
      " [1. 1. 1.]]\n",
      "tensor([[1., 1., 1.],\n",
      "        [1., 1., 1.]], dtype=torch.float64)\n"
     ]
    }
   ],
   "source": [
    "import numpy as np\n",
    "\n",
    "numpy_array = np.ones((2, 3))\n",
    "print(numpy_array)\n",
    "\n",
    "pytorch_tensor = torch.from_numpy(numpy_array)\n",
    "print(pytorch_tensor)"
   ]
  },
  {
   "cell_type": "markdown",
   "metadata": {
    "id": "WWYOW_iyKLLQ"
   },
   "source": [
    "PyTorch creates a tensor of the same shape and containing the same data\n",
    "as the NumPy array, going so far as to keep NumPy’s default 64-bit float\n",
    "data type.\n",
    "\n",
    "The conversion can just as easily go the other way:\n",
    "\n",
    "\n"
   ]
  },
  {
   "cell_type": "code",
   "execution_count": 34,
   "metadata": {
    "colab": {
     "base_uri": "https://localhost:8080/"
    },
    "id": "0ptA8RD5KLLR",
    "outputId": "1eceec84-7b0f-43da-f066-bf405a5e917f"
   },
   "outputs": [
    {
     "name": "stdout",
     "output_type": "stream",
     "text": [
      "tensor([[0.8716, 0.2459, 0.3499],\n",
      "        [0.2853, 0.9091, 0.5695]])\n",
      "[[0.87163675 0.2458961  0.34993553]\n",
      " [0.2853077  0.90905803 0.5695162 ]]\n"
     ]
    }
   ],
   "source": [
    "pytorch_rand = torch.rand(2, 3)\n",
    "print(pytorch_rand)\n",
    "\n",
    "numpy_rand = pytorch_rand.numpy()\n",
    "print(numpy_rand)"
   ]
  },
  {
   "cell_type": "markdown",
   "metadata": {
    "id": "7jgxURx_KLLR"
   },
   "source": [
    "It is important to know that these converted objects are using *the same\n",
    "underlying memory* as their source objects, meaning that changes to one\n",
    "are reflected in the other:\n",
    "\n",
    "\n"
   ]
  },
  {
   "cell_type": "code",
   "execution_count": 35,
   "metadata": {
    "colab": {
     "base_uri": "https://localhost:8080/"
    },
    "id": "1QHchyVLKLLR",
    "outputId": "a196d2b5-230c-40d8-a347-be91964e7e57"
   },
   "outputs": [
    {
     "name": "stdout",
     "output_type": "stream",
     "text": [
      "tensor([[ 1.,  1.,  1.],\n",
      "        [ 1., 23.,  1.]], dtype=torch.float64)\n",
      "[[ 0.87163675  0.2458961   0.34993553]\n",
      " [ 0.2853077  17.          0.5695162 ]]\n"
     ]
    }
   ],
   "source": [
    "numpy_array[1, 1] = 23\n",
    "print(pytorch_tensor)\n",
    "\n",
    "pytorch_rand[1, 1] = 17\n",
    "print(numpy_rand)"
   ]
  },
  {
   "cell_type": "code",
   "execution_count": null,
   "metadata": {
    "id": "6mVL7QivORDa"
   },
   "outputs": [],
   "source": []
  },
  {
   "cell_type": "markdown",
   "metadata": {
    "id": "TmDVFkSaQ4f9"
   },
   "source": [
    "\n",
    "# Optimizing Model Parameters\n",
    "\n",
    "Assume we have a model and data it's time to train, validate and test our model by optimizing its parameters on\n",
    "our data. Training a model is an iterative process; in each iteration the model makes a guess about the output, calculates\n",
    "the error in its guess (*loss*), collects the derivatives of the error with respect to its parameters, and **optimizes** these parameters using gradient descent. For a more\n",
    "detailed walkthrough of this process, check out this video on [backpropagation from 3Blue1Brown](https://www.youtube.com/watch?v=tIeHLnjs5U8)_.\n"
   ]
  },
  {
   "cell_type": "code",
   "execution_count": 36,
   "metadata": {
    "id": "dYJuBbGlQ6Bp"
   },
   "outputs": [],
   "source": [
    "import torch\n",
    "from torch import nn\n",
    "from torch.utils.data import DataLoader\n",
    "from torchvision import datasets\n",
    "from torchvision.transforms import ToTensor\n",
    "\n",
    "training_data = datasets.FashionMNIST(\n",
    "    root=\"data\",\n",
    "    train=True,\n",
    "    download=True,\n",
    "    transform=ToTensor()\n",
    ")\n",
    "\n",
    "test_data = datasets.FashionMNIST(\n",
    "    root=\"data\",\n",
    "    train=False,\n",
    "    download=True,\n",
    "    transform=ToTensor()\n",
    ")\n",
    "\n",
    "train_dataloader = DataLoader(training_data, batch_size=64)\n",
    "test_dataloader = DataLoader(test_data, batch_size=64)\n",
    "\n",
    "class NeuralNetwork(nn.Module):\n",
    "    def __init__(self):\n",
    "        super(NeuralNetwork, self).__init__()\n",
    "        self.flatten = nn.Flatten()\n",
    "        self.linear_relu_stack = nn.Sequential(\n",
    "            nn.Linear(28*28, 512),\n",
    "            nn.ReLU(),\n",
    "            nn.Linear(512, 512),\n",
    "            nn.ReLU(),\n",
    "            nn.Linear(512, 10),\n",
    "        )\n",
    "\n",
    "    def forward(self, x):\n",
    "        x = self.flatten(x)\n",
    "        logits = self.linear_relu_stack(x)\n",
    "        return logits\n"
   ]
  },
  {
   "cell_type": "markdown",
   "metadata": {
    "id": "WvhYEGGgRUyh"
   },
   "source": [
    "## Hyperparameters\n",
    "\n",
    "Hyperparameters are adjustable parameters that let you control the model optimization process.\n",
    "Different hyperparameter values can impact model training and convergence rates\n",
    "([read more](https://pytorch.org/tutorials/beginner/hyperparameter_tuning_tutorial.html)_ about hyperparameter tuning)\n",
    "\n",
    "We define the following hyperparameters for training:\n",
    " - **Number of Epochs** - the number times to iterate over the dataset\n",
    " - **Batch Size** - the number of data samples propagated through the network before the parameters are updated\n",
    " - **Learning Rate** - how much to update models parameters at each batch/epoch. Smaller values yield slow learning speed, while large values may result in unpredictable behavior during training.\n",
    "\n",
    "\n"
   ]
  },
  {
   "cell_type": "code",
   "execution_count": 37,
   "metadata": {
    "id": "mhF79Mm8RZMC"
   },
   "outputs": [],
   "source": [
    "learning_rate = 1e-3\n",
    "batch_size = 64\n",
    "epochs = 5"
   ]
  },
  {
   "cell_type": "markdown",
   "metadata": {
    "id": "vK1MvXZzRdSn"
   },
   "source": [
    "## Optimization Loop\n",
    "\n",
    "Once we set our hyperparameters, we can then train and optimize our model with an optimization loop. Each\n",
    "iteration of the optimization loop is called an **epoch**.\n",
    "\n",
    "Each epoch consists of two main parts:\n",
    " - **The Train Loop** - iterate over the training dataset and try to converge to optimal parameters.\n",
    " - **The Validation/Test Loop** - iterate over the test dataset to check if model performance is improving.\n",
    "\n",
    "Let's briefly familiarize ourselves with some of the concepts used in the training loop. Jump ahead to\n",
    "see the `full-impl-label` of the optimization loop.\n",
    "\n",
    "### Loss Function\n",
    "\n",
    "When presented with some training data, our untrained network is likely not to give the correct\n",
    "answer. **Loss function** measures the degree of dissimilarity of obtained result to the target value,\n",
    "and it is the loss function that we want to minimize during training. To calculate the loss we make a\n",
    "prediction using the inputs of our given data sample and compare it against the true data label value.\n",
    "\n",
    "Common loss functions include [nn.MSELoss](https://pytorch.org/docs/stable/generated/torch.nn.MSELoss.html#torch.nn.MSELoss) (Mean Square Error) for regression tasks, and\n",
    "[nn.NLLLoss](https://pytorch.org/docs/stable/generated/torch.nn.NLLLoss.html#torch.nn.NLLLoss) (Negative Log Likelihood) for classification.\n",
    "[nn.CrossEntropyLoss](https://pytorch.org/docs/stable/generated/torch.nn.CrossEntropyLoss.html#torch.nn.CrossEntropyLoss) combines ``nn.LogSoftmax`` and ``nn.NLLLoss``.\n",
    "\n",
    "We pass our model's output logits to ``nn.CrossEntropyLoss``, which will normalize the logits and compute the prediction error.\n",
    "\n"
   ]
  },
  {
   "cell_type": "code",
   "execution_count": 38,
   "metadata": {
    "id": "YmqdyKjWRd8e"
   },
   "outputs": [],
   "source": [
    "# Initialize the loss function\n",
    "loss_fn = nn.CrossEntropyLoss()"
   ]
  },
  {
   "cell_type": "markdown",
   "metadata": {
    "id": "iMbpd6qQRi_V"
   },
   "source": [
    "### Optimizer\n",
    "\n",
    "Optimization is the process of adjusting model parameters to reduce model error in each training step. **Optimization algorithms** define how this process is performed (in this example we use Stochastic Gradient Descent).\n",
    "All optimization logic is encapsulated in  the ``optimizer`` object. Here, we use the SGD optimizer; additionally, there are many [different optimizers](https://pytorch.org/docs/stable/optim.html)\n",
    "available in PyTorch such as ADAM and RMSProp, that work better for different kinds of models and data.\n",
    "\n",
    "We initialize the optimizer by registering the model's parameters that need to be trained, and passing in the learning rate hyperparameter."
   ]
  },
  {
   "cell_type": "markdown",
   "metadata": {
    "id": "728IrG_lRoSx"
   },
   "source": [
    "Inside the training loop, optimization happens in three steps:\n",
    " * Call ``optimizer.zero_grad()`` to reset the gradients of model parameters. Gradients by default add up; to prevent double-counting, we explicitly zero them at each iteration.\n",
    " * Backpropagate the prediction loss with a call to ``loss.backward()``. PyTorch deposits the gradients of the loss w.r.t. each parameter.\n",
    " * Once we have our gradients, we call ``optimizer.step()`` to adjust the parameters by the gradients collected in the backward pass."
   ]
  },
  {
   "cell_type": "code",
   "execution_count": 39,
   "metadata": {
    "id": "Jp0djebrRowI"
   },
   "outputs": [],
   "source": [
    "def train_loop(dataloader, model, loss_fn, optimizer, device='cpu'):\n",
    "    size = len(dataloader.dataset)\n",
    "    for batch, (X, y) in enumerate(dataloader):\n",
    "        # Compute prediction and loss\n",
    "        X = X.to(device) # move the data to cpu/gpu\n",
    "        y = y.to(device)\n",
    "        pred = model(X)\n",
    "        loss = loss_fn(pred, y)\n",
    "\n",
    "        # Backpropagation\n",
    "        optimizer.zero_grad()\n",
    "        loss.backward()\n",
    "        optimizer.step()\n",
    "\n",
    "        if batch % 100 == 0:\n",
    "            loss, current = loss.item(), (batch + 1) * len(X)\n",
    "            print(f\"loss: {loss:>7f}  [{current:>5d}/{size:>5d}]\")\n",
    "\n",
    "\n",
    "def test_loop(dataloader, model, loss_fn, device='cpu'):\n",
    "    size = len(dataloader.dataset)\n",
    "    num_batches = len(dataloader)\n",
    "    test_loss, correct = 0, 0\n",
    "\n",
    "    with torch.no_grad():\n",
    "        for X, y in dataloader:\n",
    "            X = X.to(device) # move the data to cpu/gpu\n",
    "            y = y.to(device)\n",
    "            pred = model(X)\n",
    "            test_loss += loss_fn(pred, y).item()\n",
    "            correct += (pred.argmax(1) == y).type(torch.float).sum().item()\n",
    "\n",
    "    test_loss /= num_batches\n",
    "    correct /= size\n",
    "    print(f\"Test Error: \\n Accuracy: {(100*correct):>0.1f}%, Avg loss: {test_loss:>8f} \\n\")"
   ]
  },
  {
   "cell_type": "markdown",
   "metadata": {
    "id": "WRAyr74WRu0d"
   },
   "source": [
    "We initialize the loss function and optimizer, and pass it to ``train_loop`` and ``test_loop``.\n",
    "Feel free to increase the number of epochs to track the model's improving performance.\n",
    "\n"
   ]
  },
  {
   "cell_type": "code",
   "execution_count": 40,
   "metadata": {
    "colab": {
     "base_uri": "https://localhost:8080/"
    },
    "id": "f8PceLvqRvS_",
    "outputId": "06c84a2a-2e4a-4193-ebd1-26b1bfcd142d"
   },
   "outputs": [
    {
     "name": "stdout",
     "output_type": "stream",
     "text": [
      "Epoch 1\n",
      "-------------------------------\n",
      "loss: 2.303408  [   64/60000]\n",
      "loss: 2.295907  [ 6464/60000]\n",
      "loss: 2.271525  [12864/60000]\n",
      "loss: 2.265574  [19264/60000]\n",
      "loss: 2.251734  [25664/60000]\n",
      "loss: 2.226144  [32064/60000]\n",
      "loss: 2.231945  [38464/60000]\n",
      "loss: 2.197181  [44864/60000]\n",
      "loss: 2.204034  [51264/60000]\n",
      "loss: 2.166020  [57664/60000]\n",
      "Test Error: \n",
      " Accuracy: 46.7%, Avg loss: 2.156492 \n",
      "\n",
      "Epoch 2\n",
      "-------------------------------\n",
      "loss: 2.171947  [   64/60000]\n",
      "loss: 2.157957  [ 6464/60000]\n",
      "loss: 2.095932  [12864/60000]\n",
      "loss: 2.111922  [19264/60000]\n",
      "loss: 2.056912  [25664/60000]\n",
      "loss: 2.011744  [32064/60000]\n",
      "loss: 2.035731  [38464/60000]\n",
      "loss: 1.953464  [44864/60000]\n",
      "loss: 1.966582  [51264/60000]\n",
      "loss: 1.897456  [57664/60000]\n",
      "Test Error: \n",
      " Accuracy: 54.3%, Avg loss: 1.882323 \n",
      "\n",
      "Epoch 3\n",
      "-------------------------------\n",
      "loss: 1.917468  [   64/60000]\n",
      "loss: 1.879563  [ 6464/60000]\n",
      "loss: 1.762805  [12864/60000]\n",
      "loss: 1.810375  [19264/60000]\n",
      "loss: 1.693393  [25664/60000]\n",
      "loss: 1.663381  [32064/60000]\n",
      "loss: 1.683310  [38464/60000]\n",
      "loss: 1.582512  [44864/60000]\n",
      "loss: 1.607400  [51264/60000]\n",
      "loss: 1.516319  [57664/60000]\n",
      "Test Error: \n",
      " Accuracy: 62.2%, Avg loss: 1.520205 \n",
      "\n",
      "Epoch 4\n",
      "-------------------------------\n",
      "loss: 1.580156  [   64/60000]\n",
      "loss: 1.548326  [ 6464/60000]\n",
      "loss: 1.400960  [12864/60000]\n",
      "loss: 1.475780  [19264/60000]\n",
      "loss: 1.355564  [25664/60000]\n",
      "loss: 1.361095  [32064/60000]\n",
      "loss: 1.371575  [38464/60000]\n",
      "loss: 1.296466  [44864/60000]\n",
      "loss: 1.327268  [51264/60000]\n",
      "loss: 1.240129  [57664/60000]\n",
      "Test Error: \n",
      " Accuracy: 64.1%, Avg loss: 1.256199 \n",
      "\n",
      "Epoch 5\n",
      "-------------------------------\n",
      "loss: 1.322514  [   64/60000]\n",
      "loss: 1.313873  [ 6464/60000]\n",
      "loss: 1.150104  [12864/60000]\n",
      "loss: 1.253763  [19264/60000]\n",
      "loss: 1.129359  [25664/60000]\n",
      "loss: 1.159325  [32064/60000]\n",
      "loss: 1.176433  [38464/60000]\n",
      "loss: 1.115359  [44864/60000]\n",
      "loss: 1.151500  [51264/60000]\n",
      "loss: 1.077017  [57664/60000]\n",
      "Test Error: \n",
      " Accuracy: 65.1%, Avg loss: 1.089034 \n",
      "\n",
      "Epoch 6\n",
      "-------------------------------\n",
      "loss: 1.149065  [   64/60000]\n",
      "loss: 1.162553  [ 6464/60000]\n",
      "loss: 0.981946  [12864/60000]\n",
      "loss: 1.112684  [19264/60000]\n",
      "loss: 0.986624  [25664/60000]\n",
      "loss: 1.023007  [32064/60000]\n",
      "loss: 1.055064  [38464/60000]\n",
      "loss: 0.998764  [44864/60000]\n",
      "loss: 1.035280  [51264/60000]\n",
      "loss: 0.974933  [57664/60000]\n",
      "Test Error: \n",
      " Accuracy: 66.3%, Avg loss: 0.980165 \n",
      "\n",
      "Epoch 7\n",
      "-------------------------------\n",
      "loss: 1.026742  [   64/60000]\n",
      "loss: 1.064065  [ 6464/60000]\n",
      "loss: 0.866028  [12864/60000]\n",
      "loss: 1.018554  [19264/60000]\n",
      "loss: 0.895727  [25664/60000]\n",
      "loss: 0.927836  [32064/60000]\n",
      "loss: 0.975526  [38464/60000]\n",
      "loss: 0.922651  [44864/60000]\n",
      "loss: 0.954283  [51264/60000]\n",
      "loss: 0.906807  [57664/60000]\n",
      "Test Error: \n",
      " Accuracy: 67.5%, Avg loss: 0.905880 \n",
      "\n",
      "Epoch 8\n",
      "-------------------------------\n",
      "loss: 0.936354  [   64/60000]\n",
      "loss: 0.995722  [ 6464/60000]\n",
      "loss: 0.782746  [12864/60000]\n",
      "loss: 0.952225  [19264/60000]\n",
      "loss: 0.835210  [25664/60000]\n",
      "loss: 0.859277  [32064/60000]\n",
      "loss: 0.919739  [38464/60000]\n",
      "loss: 0.872104  [44864/60000]\n",
      "loss: 0.896000  [51264/60000]\n",
      "loss: 0.857935  [57664/60000]\n",
      "Test Error: \n",
      " Accuracy: 68.8%, Avg loss: 0.852571 \n",
      "\n",
      "Epoch 9\n",
      "-------------------------------\n",
      "loss: 0.867306  [   64/60000]\n",
      "loss: 0.944749  [ 6464/60000]\n",
      "loss: 0.720375  [12864/60000]\n",
      "loss: 0.903358  [19264/60000]\n",
      "loss: 0.792050  [25664/60000]\n",
      "loss: 0.808270  [32064/60000]\n",
      "loss: 0.877768  [38464/60000]\n",
      "loss: 0.836995  [44864/60000]\n",
      "loss: 0.852639  [51264/60000]\n",
      "loss: 0.820548  [57664/60000]\n",
      "Test Error: \n",
      " Accuracy: 70.5%, Avg loss: 0.812239 \n",
      "\n",
      "Epoch 10\n",
      "-------------------------------\n",
      "loss: 0.812477  [   64/60000]\n",
      "loss: 0.903559  [ 6464/60000]\n",
      "loss: 0.671508  [12864/60000]\n",
      "loss: 0.865764  [19264/60000]\n",
      "loss: 0.759159  [25664/60000]\n",
      "loss: 0.769246  [32064/60000]\n",
      "loss: 0.844331  [38464/60000]\n",
      "loss: 0.811114  [44864/60000]\n",
      "loss: 0.819159  [51264/60000]\n",
      "loss: 0.790242  [57664/60000]\n",
      "Test Error: \n",
      " Accuracy: 71.9%, Avg loss: 0.780151 \n",
      "\n",
      "Done!\n"
     ]
    }
   ],
   "source": [
    "model = NeuralNetwork()\n",
    "loss_fn = nn.CrossEntropyLoss()\n",
    "optimizer = torch.optim.SGD(model.parameters(), lr=learning_rate)\n",
    "\n",
    "epochs = 10\n",
    "for t in range(epochs):\n",
    "    print(f\"Epoch {t+1}\\n-------------------------------\")\n",
    "    train_loop(train_dataloader, model, loss_fn, optimizer)\n",
    "    test_loop(test_dataloader, model, loss_fn)\n",
    "print(\"Done!\")"
   ]
  },
  {
   "cell_type": "code",
   "execution_count": 41,
   "metadata": {},
   "outputs": [
    {
     "name": "stdout",
     "output_type": "stream",
     "text": [
      "Epoch 1\n",
      "-------------------------------\n",
      "loss: 0.767138  [   64/60000]\n",
      "loss: 0.868192  [ 6464/60000]\n",
      "loss: 0.631870  [12864/60000]\n",
      "loss: 0.835898  [19264/60000]\n",
      "loss: 0.732674  [25664/60000]\n",
      "loss: 0.738511  [32064/60000]\n",
      "loss: 0.815863  [38464/60000]\n",
      "loss: 0.790755  [44864/60000]\n",
      "loss: 0.792351  [51264/60000]\n",
      "loss: 0.764636  [57664/60000]\n",
      "Test Error: \n",
      " Accuracy: 73.2%, Avg loss: 0.753602 \n",
      "\n",
      "Epoch 2\n",
      "-------------------------------\n",
      "loss: 0.728853  [   64/60000]\n",
      "loss: 0.836862  [ 6464/60000]\n",
      "loss: 0.598820  [12864/60000]\n",
      "loss: 0.811497  [19264/60000]\n",
      "loss: 0.710462  [25664/60000]\n",
      "loss: 0.713661  [32064/60000]\n",
      "loss: 0.790808  [38464/60000]\n",
      "loss: 0.773741  [44864/60000]\n",
      "loss: 0.770214  [51264/60000]\n",
      "loss: 0.742429  [57664/60000]\n",
      "Test Error: \n",
      " Accuracy: 74.2%, Avg loss: 0.730825 \n",
      "\n",
      "Epoch 3\n",
      "-------------------------------\n",
      "loss: 0.695697  [   64/60000]\n",
      "loss: 0.808446  [ 6464/60000]\n",
      "loss: 0.570681  [12864/60000]\n",
      "loss: 0.790956  [19264/60000]\n",
      "loss: 0.691402  [25664/60000]\n",
      "loss: 0.693046  [32064/60000]\n",
      "loss: 0.768194  [38464/60000]\n",
      "loss: 0.758831  [44864/60000]\n",
      "loss: 0.751392  [51264/60000]\n",
      "loss: 0.722646  [57664/60000]\n",
      "Test Error: \n",
      " Accuracy: 75.0%, Avg loss: 0.710784 \n",
      "\n",
      "Epoch 4\n",
      "-------------------------------\n",
      "loss: 0.666633  [   64/60000]\n",
      "loss: 0.782497  [ 6464/60000]\n",
      "loss: 0.546299  [12864/60000]\n",
      "loss: 0.773158  [19264/60000]\n",
      "loss: 0.674938  [25664/60000]\n",
      "loss: 0.675579  [32064/60000]\n",
      "loss: 0.747431  [38464/60000]\n",
      "loss: 0.745532  [44864/60000]\n",
      "loss: 0.735040  [51264/60000]\n",
      "loss: 0.704667  [57664/60000]\n",
      "Test Error: \n",
      " Accuracy: 75.6%, Avg loss: 0.692841 \n",
      "\n",
      "Epoch 5\n",
      "-------------------------------\n",
      "loss: 0.640914  [   64/60000]\n",
      "loss: 0.758697  [ 6464/60000]\n",
      "loss: 0.525014  [12864/60000]\n",
      "loss: 0.757349  [19264/60000]\n",
      "loss: 0.660487  [25664/60000]\n",
      "loss: 0.660570  [32064/60000]\n",
      "loss: 0.728152  [38464/60000]\n",
      "loss: 0.733681  [44864/60000]\n",
      "loss: 0.720782  [51264/60000]\n",
      "loss: 0.688328  [57664/60000]\n",
      "Test Error: \n",
      " Accuracy: 76.3%, Avg loss: 0.676587 \n",
      "\n",
      "Epoch 6\n",
      "-------------------------------\n",
      "loss: 0.617976  [   64/60000]\n",
      "loss: 0.736822  [ 6464/60000]\n",
      "loss: 0.506153  [12864/60000]\n",
      "loss: 0.743073  [19264/60000]\n",
      "loss: 0.647707  [25664/60000]\n",
      "loss: 0.647548  [32064/60000]\n",
      "loss: 0.710284  [38464/60000]\n",
      "loss: 0.723039  [44864/60000]\n",
      "loss: 0.708428  [51264/60000]\n",
      "loss: 0.673211  [57664/60000]\n",
      "Test Error: \n",
      " Accuracy: 76.9%, Avg loss: 0.661771 \n",
      "\n",
      "Epoch 7\n",
      "-------------------------------\n",
      "loss: 0.597504  [   64/60000]\n",
      "loss: 0.716683  [ 6464/60000]\n",
      "loss: 0.489412  [12864/60000]\n",
      "loss: 0.730018  [19264/60000]\n",
      "loss: 0.636362  [25664/60000]\n",
      "loss: 0.636239  [32064/60000]\n",
      "loss: 0.693695  [38464/60000]\n",
      "loss: 0.713541  [44864/60000]\n",
      "loss: 0.697648  [51264/60000]\n",
      "loss: 0.659131  [57664/60000]\n",
      "Test Error: \n",
      " Accuracy: 77.4%, Avg loss: 0.648227 \n",
      "\n",
      "Epoch 8\n",
      "-------------------------------\n",
      "loss: 0.579116  [   64/60000]\n",
      "loss: 0.698163  [ 6464/60000]\n",
      "loss: 0.474468  [12864/60000]\n",
      "loss: 0.718036  [19264/60000]\n",
      "loss: 0.626360  [25664/60000]\n",
      "loss: 0.626434  [32064/60000]\n",
      "loss: 0.678313  [38464/60000]\n",
      "loss: 0.705218  [44864/60000]\n",
      "loss: 0.688366  [51264/60000]\n",
      "loss: 0.646037  [57664/60000]\n",
      "Test Error: \n",
      " Accuracy: 77.9%, Avg loss: 0.635822 \n",
      "\n",
      "Epoch 9\n",
      "-------------------------------\n",
      "loss: 0.562617  [   64/60000]\n",
      "loss: 0.681220  [ 6464/60000]\n",
      "loss: 0.461054  [12864/60000]\n",
      "loss: 0.706960  [19264/60000]\n",
      "loss: 0.617422  [25664/60000]\n",
      "loss: 0.617812  [32064/60000]\n",
      "loss: 0.664092  [38464/60000]\n",
      "loss: 0.698043  [44864/60000]\n",
      "loss: 0.680379  [51264/60000]\n",
      "loss: 0.633848  [57664/60000]\n",
      "Test Error: \n",
      " Accuracy: 78.3%, Avg loss: 0.624465 \n",
      "\n",
      "Epoch 10\n",
      "-------------------------------\n",
      "loss: 0.547745  [   64/60000]\n",
      "loss: 0.665683  [ 6464/60000]\n",
      "loss: 0.448909  [12864/60000]\n",
      "loss: 0.696650  [19264/60000]\n",
      "loss: 0.609336  [25664/60000]\n",
      "loss: 0.610123  [32064/60000]\n",
      "loss: 0.650965  [38464/60000]\n",
      "loss: 0.691889  [44864/60000]\n",
      "loss: 0.673545  [51264/60000]\n",
      "loss: 0.622394  [57664/60000]\n",
      "Test Error: \n",
      " Accuracy: 78.8%, Avg loss: 0.614044 \n",
      "\n",
      "Done!\n"
     ]
    }
   ],
   "source": [
    "model = model.to(my_device)\n",
    "loss_fn = nn.CrossEntropyLoss()\n",
    "optimizer = torch.optim.SGD(model.parameters(), lr=learning_rate)\n",
    "\n",
    "epochs = 10\n",
    "for t in range(epochs):\n",
    "    print(f\"Epoch {t+1}\\n-------------------------------\")\n",
    "    train_loop(train_dataloader, model, loss_fn, optimizer, device=my_device)\n",
    "    test_loop(test_dataloader, model, loss_fn, device=my_device)\n",
    "print(\"Done!\")"
   ]
  },
  {
   "cell_type": "markdown",
   "metadata": {
    "id": "2pfYoo50Rz_w"
   },
   "source": [
    "## Further Reading\n",
    "- [Loss Functions](https://pytorch.org/docs/stable/nn.html#loss-functions)\n",
    "- [torch.optim](https://pytorch.org/docs/stable/optim.html)\n",
    "- [Warmstart Training a Model](https://pytorch.org/tutorials/recipes/recipes/warmstarting_model_using_parameters_from_a_different_model.html)\n",
    "\n",
    "\n"
   ]
  },
  {
   "cell_type": "code",
   "execution_count": null,
   "metadata": {
    "id": "XpsiNzorR09F"
   },
   "outputs": [],
   "source": []
  }
 ],
 "metadata": {
  "accelerator": "GPU",
  "colab": {
   "provenance": []
  },
  "gpuClass": "standard",
  "kernelspec": {
   "display_name": "Python 3 (ipykernel)",
   "language": "python",
   "name": "python3"
  },
  "language_info": {
   "codemirror_mode": {
    "name": "ipython",
    "version": 3
   },
   "file_extension": ".py",
   "mimetype": "text/x-python",
   "name": "python",
   "nbconvert_exporter": "python",
   "pygments_lexer": "ipython3",
   "version": "3.9.5"
  }
 },
 "nbformat": 4,
 "nbformat_minor": 1
}
